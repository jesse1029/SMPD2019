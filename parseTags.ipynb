{
 "cells": [
  {
   "cell_type": "code",
   "execution_count": 1,
   "metadata": {},
   "outputs": [],
   "source": [
    "import numpy as np\n",
    "\n",
    "with open('train/train_tags.txt','r', encoding='ISO-8859-1', errors='ignore') as fp:\n",
    "    data = fp.readlines()\n",
    "\n",
    "len1 = len(data)\n",
    "fp = open('train/train_tags2.txt','w',encoding='utf-8')\n",
    "fp2 = open('train/train_tags_pure_text.txt','w',encoding='utf-8')\n",
    "line = '\\xe9\\x98\\xbf\\xe5\\xb0\\x94\\xe6\\xaf\\x94\\xe5\\xb7\\xb4\\xe9\\x87\\x8c\\xe5\\xb8\\x83\\xe9\\x9b\\xb7\\xe8\\xa5\\xbf\\xe6\\xa0\\xbc\\xe7\\xbd\\x97\\xe7\\x91\\x9f\\xe6\\x9b\\xbc\\xe6\\x89\\x98\\xe7\\x93\\xa6\\xe6\\xa2\\x85\\xe8\\xa5\\xbf\\xe7\\xba\\xb3\\xe6\\x91\\xa9\\xe5\\xbe\\xb7\\xe7\\xba\\xb3\\xe7\\x89\\xb9\\xe9\\x87\\x8c\\xe5\\x9f\\x83\\xe8\\xb5\\xab\\xe5\\xba\\x93\\xe6\\x96\\xaf\\xe9\\x98\\xbf\\xe6\\x8b\\x89\\xe7\\xbb\\xb4\\xe6\\xb2\\x99\\xe6\\x8b\\x89\\xe6\\x9b\\xbc\\xe5\\x8d'\n",
    "len2 = len(line)\n",
    "\n",
    "fp.write('Uid,Pid,Title\\n')\n",
    "for i in range(1,len1):\n",
    "    x = data[i].split(' ')\n",
    "    x1=x[0]\n",
    "    x2=x[1]\n",
    "    x3 = ''\n",
    "    for j in range(2,len(x)):\n",
    "        for k in range(len2):\n",
    "            x[j] = x[j].replace(line[k*4:k*4+4], '')\n",
    "        x[j] = x[j].replace(',','')\n",
    "        if j < len(x)-1:\n",
    "            x3 += x[j] + ' '\n",
    "        else:\n",
    "            x3 += x[j]\n",
    "        \n",
    "    fp.write(\"%s,%s,%s\" % (x1,x2,x3))\n",
    "    fp2.write(\"%s\" % (x3))\n",
    "fp.close()\n",
    "fp2.close()"
   ]
  },
  {
   "cell_type": "code",
   "execution_count": null,
   "metadata": {},
   "outputs": [],
   "source": []
  }
 ],
 "metadata": {
  "kernelspec": {
   "display_name": "Python 3",
   "language": "python",
   "name": "python3"
  },
  "language_info": {
   "codemirror_mode": {
    "name": "ipython",
    "version": 3
   },
   "file_extension": ".py",
   "mimetype": "text/x-python",
   "name": "python",
   "nbconvert_exporter": "python",
   "pygments_lexer": "ipython3",
   "version": "3.6.7"
  }
 },
 "nbformat": 4,
 "nbformat_minor": 2
}
