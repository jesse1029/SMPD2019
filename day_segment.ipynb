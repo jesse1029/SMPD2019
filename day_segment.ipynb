{
 "cells": [
  {
   "cell_type": "code",
   "execution_count": 3,
   "metadata": {},
   "outputs": [
    {
     "name": "stderr",
     "output_type": "stream",
     "text": [
      "Building prefix dict from D:\\Research\\SMPD 2019\\jieba_dict\\dict.txt.big ...\n",
      "2019-04-23 17:48:40,538 : DEBUG : Building prefix dict from D:\\Research\\SMPD 2019\\jieba_dict\\dict.txt.big ...\n",
      "Dumping model to file cache C:\\Users\\user\\AppData\\Local\\Temp\\jieba.u7fd1d68708e519403c2d55f27993b8aa.cache\n",
      "2019-04-23 17:48:41,507 : DEBUG : Dumping model to file cache C:\\Users\\user\\AppData\\Local\\Temp\\jieba.u7fd1d68708e519403c2d55f27993b8aa.cache\n",
      "Loading model cost 1.061 seconds.\n",
      "2019-04-23 17:48:41,603 : DEBUG : Loading model cost 1.061 seconds.\n",
      "Prefix dict has been built succesfully.\n",
      "2019-04-23 17:48:41,604 : DEBUG : Prefix dict has been built succesfully.\n",
      "2019-04-23 17:48:46,020 : INFO : 已完成前 10000 行的斷詞\n",
      "2019-04-23 17:48:50,404 : INFO : 已完成前 20000 行的斷詞\n",
      "2019-04-23 17:48:54,493 : INFO : 已完成前 30000 行的斷詞\n",
      "2019-04-23 17:48:58,301 : INFO : 已完成前 40000 行的斷詞\n",
      "2019-04-23 17:49:01,919 : INFO : 已完成前 50000 行的斷詞\n",
      "2019-04-23 17:49:05,749 : INFO : 已完成前 60000 行的斷詞\n",
      "2019-04-23 17:49:09,797 : INFO : 已完成前 70000 行的斷詞\n",
      "2019-04-23 17:49:13,568 : INFO : 已完成前 80000 行的斷詞\n",
      "2019-04-23 17:49:17,309 : INFO : 已完成前 90000 行的斷詞\n",
      "2019-04-23 17:49:21,136 : INFO : 已完成前 100000 行的斷詞\n",
      "2019-04-23 17:49:24,496 : INFO : 已完成前 110000 行的斷詞\n",
      "2019-04-23 17:49:28,394 : INFO : 已完成前 120000 行的斷詞\n",
      "2019-04-23 17:49:32,223 : INFO : 已完成前 130000 行的斷詞\n",
      "2019-04-23 17:49:36,037 : INFO : 已完成前 140000 行的斷詞\n",
      "2019-04-23 17:49:39,903 : INFO : 已完成前 150000 行的斷詞\n",
      "2019-04-23 17:49:43,504 : INFO : 已完成前 160000 行的斷詞\n",
      "2019-04-23 17:49:47,193 : INFO : 已完成前 170000 行的斷詞\n",
      "2019-04-23 17:49:50,923 : INFO : 已完成前 180000 行的斷詞\n",
      "2019-04-23 17:49:54,687 : INFO : 已完成前 190000 行的斷詞\n",
      "2019-04-23 17:49:58,224 : INFO : 已完成前 200000 行的斷詞\n",
      "2019-04-23 17:50:01,811 : INFO : 已完成前 210000 行的斷詞\n",
      "2019-04-23 17:50:05,515 : INFO : 已完成前 220000 行的斷詞\n",
      "2019-04-23 17:50:09,257 : INFO : 已完成前 230000 行的斷詞\n",
      "2019-04-23 17:50:13,226 : INFO : 已完成前 240000 行的斷詞\n",
      "2019-04-23 17:50:17,006 : INFO : 已完成前 250000 行的斷詞\n",
      "2019-04-23 17:50:20,549 : INFO : 已完成前 260000 行的斷詞\n",
      "2019-04-23 17:50:24,310 : INFO : 已完成前 270000 行的斷詞\n",
      "2019-04-23 17:50:27,820 : INFO : 已完成前 280000 行的斷詞\n",
      "2019-04-23 17:50:31,221 : INFO : 已完成前 290000 行的斷詞\n",
      "2019-04-23 17:50:34,790 : INFO : 已完成前 300000 行的斷詞\n"
     ]
    }
   ],
   "source": [
    "# -*- coding: utf-8 -*-\n",
    "\n",
    "import jieba\n",
    "import logging\n",
    "\n",
    "def main():\n",
    "\n",
    "    logging.basicConfig(format='%(asctime)s : %(levelname)s : %(message)s', level=logging.INFO)\n",
    "\n",
    "    # jieba custom setting.\n",
    "    jieba.set_dictionary('jieba_dict/dict.txt.big')\n",
    "\n",
    "    # load stopwords set\n",
    "    stopword_set = set()\n",
    "    with open('jieba_dict/stopwords.txt','r', encoding='utf-8') as stopwords:\n",
    "        for stopword in stopwords:\n",
    "            stopword_set.add(stopword.strip('\\n'))\n",
    "\n",
    "    output = open('train/train_tags_pure_text_2.txt', 'w', encoding='utf-8')\n",
    "    with open('train/train_tags_pure_text.txt', 'r', encoding='utf-8') as content :\n",
    "        for texts_num, line in enumerate(content):\n",
    "            line = line.strip('\\n')\n",
    "#             line = line.split(' ')\n",
    "            words = jieba.cut(line, cut_all=False)\n",
    "            for word in words:\n",
    "                if word not in stopword_set:\n",
    "                    output.write(word + ' ')\n",
    "            output.write('\\n')\n",
    "\n",
    "            if (texts_num + 1) % 10000 == 0:\n",
    "                logging.info(\"已完成前 %d 行的斷詞\" % (texts_num + 1))\n",
    "    output.close()\n",
    "\n",
    "if __name__ == '__main__':\n",
    "    main()\n"
   ]
  },
  {
   "cell_type": "code",
   "execution_count": null,
   "metadata": {},
   "outputs": [],
   "source": []
  },
  {
   "cell_type": "code",
   "execution_count": null,
   "metadata": {},
   "outputs": [],
   "source": []
  }
 ],
 "metadata": {
  "kernelspec": {
   "display_name": "Python 3",
   "language": "python",
   "name": "python3"
  },
  "language_info": {
   "codemirror_mode": {
    "name": "ipython",
    "version": 3
   },
   "file_extension": ".py",
   "mimetype": "text/x-python",
   "name": "python",
   "nbconvert_exporter": "python",
   "pygments_lexer": "ipython3",
   "version": "3.6.7"
  }
 },
 "nbformat": 4,
 "nbformat_minor": 2
}
